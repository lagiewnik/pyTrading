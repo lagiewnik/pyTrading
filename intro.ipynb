{
 "cells": [
  {
   "cell_type": "code",
   "execution_count": 1,
   "metadata": {},
   "outputs": [
    {
     "name": "stdout",
     "output_type": "stream",
     "text": [
      "['h:\\\\PROJEKTY\\\\pyTrading', 'C:\\\\DEV\\\\anaconda\\\\python39.zip', 'C:\\\\DEV\\\\anaconda\\\\DLLs', 'C:\\\\DEV\\\\anaconda\\\\lib', 'C:\\\\DEV\\\\anaconda', '', 'C:\\\\DEV\\\\anaconda\\\\lib\\\\site-packages', 'C:\\\\DEV\\\\anaconda\\\\lib\\\\site-packages\\\\locket-0.2.1-py3.9.egg', 'C:\\\\DEV\\\\anaconda\\\\lib\\\\site-packages\\\\win32', 'C:\\\\DEV\\\\anaconda\\\\lib\\\\site-packages\\\\win32\\\\lib', 'C:\\\\DEV\\\\anaconda\\\\lib\\\\site-packages\\\\Pythonwin', 'C:\\\\DEV\\\\anaconda\\\\lib\\\\site-packages\\\\IPython\\\\extensions', 'C:\\\\Users\\\\ms\\\\.ipython', 'C:\\\\Users\\\\ms\\\\AppData\\\\Roaming\\\\Python\\\\Python39\\\\site-packages', 'h:\\\\PROJEKTY\\\\pyTrading\\\\tools\\\\DataLoader.py']\n"
     ]
    },
    {
     "ename": "ModuleNotFoundError",
     "evalue": "No module named 'DataLoader'",
     "output_type": "error",
     "traceback": [
      "\u001b[1;31m---------------------------------------------------------------------------\u001b[0m",
      "\u001b[1;31mModuleNotFoundError\u001b[0m                       Traceback (most recent call last)",
      "\u001b[1;32m~\\AppData\\Local\\Temp/ipykernel_25540/1130372661.py\u001b[0m in \u001b[0;36m<module>\u001b[1;34m\u001b[0m\n\u001b[0;32m      4\u001b[0m \u001b[1;33m\u001b[0m\u001b[0m\n\u001b[0;32m      5\u001b[0m \u001b[0mprint\u001b[0m\u001b[1;33m(\u001b[0m\u001b[0msys\u001b[0m\u001b[1;33m.\u001b[0m\u001b[0mpath\u001b[0m\u001b[1;33m)\u001b[0m\u001b[1;33m\u001b[0m\u001b[1;33m\u001b[0m\u001b[0m\n\u001b[1;32m----> 6\u001b[1;33m \u001b[1;32mimport\u001b[0m \u001b[0mDataLoader\u001b[0m\u001b[1;33m\u001b[0m\u001b[1;33m\u001b[0m\u001b[0m\n\u001b[0m",
      "\u001b[1;31mModuleNotFoundError\u001b[0m: No module named 'DataLoader'"
     ]
    }
   ],
   "source": [
    "import sys\n",
    "import os\n",
    "sys.path.append(os.path.abspath(\"tools/DataLoader.py\"))\n",
    "\n",
    "print(sys.path)\n",
    "import DataLoader"
   ]
  },
  {
   "cell_type": "code",
   "execution_count": null,
   "metadata": {},
   "outputs": [],
   "source": [
    "%load_ext dotenv\n",
    "%dotenv\n",
    "print(os.getenv('TEST_USER'))\n",
    "%reload_ext dotenv\n",
    "print(os.getenv('API_KEY'))\n",
    "print(os.getenv('SECRET_KEY'))\n"
   ]
  },
  {
   "cell_type": "code",
   "execution_count": null,
   "metadata": {},
   "outputs": [],
   "source": [
    "import pandas as pd\n",
    "from binance.client import Client"
   ]
  },
  {
   "cell_type": "code",
   "execution_count": null,
   "metadata": {},
   "outputs": [],
   "source": [
    "client = Client(api_key = os.getenv('API_KEY'), api_secret=os.getenv('SECRET_KEY'), tld=\"com\", testnet=True)\n"
   ]
  },
  {
   "cell_type": "code",
   "execution_count": null,
   "metadata": {},
   "outputs": [],
   "source": [
    "client.get_all_tickers()"
   ]
  },
  {
   "cell_type": "code",
   "execution_count": null,
   "metadata": {},
   "outputs": [],
   "source": []
  }
 ],
 "metadata": {
  "interpreter": {
   "hash": "6ba61b4d9dd9b82001b4b212adbb02ef92ed4ffcdf7d41027f2ebe41312b869a"
  },
  "kernelspec": {
   "display_name": "Python 3.9.7 ('base')",
   "language": "python",
   "name": "python3"
  },
  "language_info": {
   "codemirror_mode": {
    "name": "ipython",
    "version": 3
   },
   "file_extension": ".py",
   "mimetype": "text/x-python",
   "name": "python",
   "nbconvert_exporter": "python",
   "pygments_lexer": "ipython3",
   "version": "3.9.7"
  },
  "orig_nbformat": 4
 },
 "nbformat": 4,
 "nbformat_minor": 2
}
